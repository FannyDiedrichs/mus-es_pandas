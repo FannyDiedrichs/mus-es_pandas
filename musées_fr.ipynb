{
 "cells": [
  {
   "cell_type": "markdown",
   "id": "ceaef8bf",
   "metadata": {},
   "source": [
    "### Importation du module \"Pandas\", nécessaire à l'analyse du fichier .csv"
   ]
  },
  {
   "cell_type": "code",
   "execution_count": 5,
   "id": "1a139d14",
   "metadata": {},
   "outputs": [],
   "source": [
    "import pandas as pd"
   ]
  },
  {
   "cell_type": "markdown",
   "id": "a4bd98f7",
   "metadata": {},
   "source": [
    " #### Importation de \"Numpy\". Ce module va par la suite nous aider à calculer le type d'agrégation (nombre de valeurs)."
   ]
  },
  {
   "cell_type": "code",
   "execution_count": 6,
   "id": "0050460d",
   "metadata": {},
   "outputs": [],
   "source": [
    "import numpy as np"
   ]
  },
  {
   "cell_type": "markdown",
   "id": "f61d7887",
   "metadata": {},
   "source": [
    "### Lecture du fichier .csv"
   ]
  },
  {
   "cell_type": "code",
   "execution_count": 130,
   "id": "a4891119",
   "metadata": {},
   "outputs": [],
   "source": [
    "datamuseums = pd.read_csv(\"liste-des-musees-de-france-2021.csv\", sep=\";\")"
   ]
  },
  {
   "cell_type": "markdown",
   "id": "07c4f029",
   "metadata": {},
   "source": [
    "#### Visualisation du fichier"
   ]
  },
  {
   "cell_type": "code",
   "execution_count": 55,
   "id": "ddc6e12a",
   "metadata": {},
   "outputs": [
    {
     "data": {
      "text/html": [
       "<div>\n",
       "<style scoped>\n",
       "    .dataframe tbody tr th:only-of-type {\n",
       "        vertical-align: middle;\n",
       "    }\n",
       "\n",
       "    .dataframe tbody tr th {\n",
       "        vertical-align: top;\n",
       "    }\n",
       "\n",
       "    .dataframe thead th {\n",
       "        text-align: right;\n",
       "    }\n",
       "</style>\n",
       "<table border=\"1\" class=\"dataframe\">\n",
       "  <thead>\n",
       "    <tr style=\"text-align: right;\">\n",
       "      <th></th>\n",
       "      <th>osm_id</th>\n",
       "      <th>name</th>\n",
       "      <th>number</th>\n",
       "      <th>street</th>\n",
       "      <th>postal_code</th>\n",
       "      <th>city</th>\n",
       "      <th>country</th>\n",
       "      <th>country_code</th>\n",
       "      <th>lat</th>\n",
       "      <th>lon</th>\n",
       "      <th>website</th>\n",
       "      <th>email</th>\n",
       "      <th>phone</th>\n",
       "      <th>fax</th>\n",
       "      <th>tags</th>\n",
       "      <th>description</th>\n",
       "      <th>date_added</th>\n",
       "      <th>wikidata</th>\n",
       "    </tr>\n",
       "  </thead>\n",
       "  <tbody>\n",
       "    <tr>\n",
       "      <th>0</th>\n",
       "      <td>4540234591</td>\n",
       "      <td>3 bis f</td>\n",
       "      <td>109</td>\n",
       "      <td>Avenue du Petit BarthÈlÈmy</td>\n",
       "      <td>13617.0</td>\n",
       "      <td>Aix-en-Provence</td>\n",
       "      <td>France</td>\n",
       "      <td>fr</td>\n",
       "      <td>43.521207</td>\n",
       "      <td>5.439875</td>\n",
       "      <td>http://www.3bisf.com</td>\n",
       "      <td>contact@3bisf.com</td>\n",
       "      <td>33442161775</td>\n",
       "      <td>NaN</td>\n",
       "      <td>osm:museum;art:art contemporain</td>\n",
       "      <td>NaN</td>\n",
       "      <td>44116,00764</td>\n",
       "      <td>NaN</td>\n",
       "    </tr>\n",
       "    <tr>\n",
       "      <th>1</th>\n",
       "      <td>4388745689</td>\n",
       "      <td>A casa di Losari</td>\n",
       "      <td>NaN</td>\n",
       "      <td>T 30</td>\n",
       "      <td>20226.0</td>\n",
       "      <td>BelgodËre</td>\n",
       "      <td>France</td>\n",
       "      <td>fr</td>\n",
       "      <td>42.638732</td>\n",
       "      <td>9.007660</td>\n",
       "      <td>NaN</td>\n",
       "      <td>NaN</td>\n",
       "      <td>NaN</td>\n",
       "      <td>NaN</td>\n",
       "      <td>osm:museum</td>\n",
       "      <td>NaN</td>\n",
       "      <td>43338,9394</td>\n",
       "      <td>NaN</td>\n",
       "    </tr>\n",
       "    <tr>\n",
       "      <th>2</th>\n",
       "      <td>4426176194</td>\n",
       "      <td>¿ l'homme volant</td>\n",
       "      <td>35</td>\n",
       "      <td>Grande Rue</td>\n",
       "      <td>72300.0</td>\n",
       "      <td>SablÈ-sur-Sarthe</td>\n",
       "      <td>France</td>\n",
       "      <td>fr</td>\n",
       "      <td>47.839656</td>\n",
       "      <td>-0.334043</td>\n",
       "      <td>NaN</td>\n",
       "      <td>NaN</td>\n",
       "      <td>33243950736</td>\n",
       "      <td>NaN</td>\n",
       "      <td>osm:museum;type:centre d'interpretation</td>\n",
       "      <td>NaN</td>\n",
       "      <td>42644,46366</td>\n",
       "      <td>NaN</td>\n",
       "    </tr>\n",
       "    <tr>\n",
       "      <th>3</th>\n",
       "      <td>7652598615</td>\n",
       "      <td>Abbadiale - Maison des arts</td>\n",
       "      <td>NaN</td>\n",
       "      <td>Rue du Gabizos</td>\n",
       "      <td>65400.0</td>\n",
       "      <td>Arras-en-Lavedan</td>\n",
       "      <td>France</td>\n",
       "      <td>fr</td>\n",
       "      <td>42.990826</td>\n",
       "      <td>-0.128057</td>\n",
       "      <td>https://www.abbadiale.fr/</td>\n",
       "      <td>NaN</td>\n",
       "      <td>33633170714</td>\n",
       "      <td>NaN</td>\n",
       "      <td>osm:museum</td>\n",
       "      <td>NaN</td>\n",
       "      <td>44120,04668</td>\n",
       "      <td>NaN</td>\n",
       "    </tr>\n",
       "    <tr>\n",
       "      <th>4</th>\n",
       "      <td>121580330</td>\n",
       "      <td>Abbaye</td>\n",
       "      <td>NaN</td>\n",
       "      <td>Rue de l'Abbaye</td>\n",
       "      <td>39210.0</td>\n",
       "      <td>Ch‚teau-Chalon</td>\n",
       "      <td>France</td>\n",
       "      <td>fr</td>\n",
       "      <td>46.753866</td>\n",
       "      <td>5.624296</td>\n",
       "      <td>NaN</td>\n",
       "      <td>NaN</td>\n",
       "      <td>NaN</td>\n",
       "      <td>NaN</td>\n",
       "      <td>osm:museum;art:architecture</td>\n",
       "      <td>NaN</td>\n",
       "      <td>43102,54919</td>\n",
       "      <td>NaN</td>\n",
       "    </tr>\n",
       "    <tr>\n",
       "      <th>...</th>\n",
       "      <td>...</td>\n",
       "      <td>...</td>\n",
       "      <td>...</td>\n",
       "      <td>...</td>\n",
       "      <td>...</td>\n",
       "      <td>...</td>\n",
       "      <td>...</td>\n",
       "      <td>...</td>\n",
       "      <td>...</td>\n",
       "      <td>...</td>\n",
       "      <td>...</td>\n",
       "      <td>...</td>\n",
       "      <td>...</td>\n",
       "      <td>...</td>\n",
       "      <td>...</td>\n",
       "      <td>...</td>\n",
       "      <td>...</td>\n",
       "      <td>...</td>\n",
       "    </tr>\n",
       "    <tr>\n",
       "      <th>3779</th>\n",
       "      <td>1348524503</td>\n",
       "      <td>Vivarium du Moulin</td>\n",
       "      <td>NaN</td>\n",
       "      <td>Rue Principale</td>\n",
       "      <td>68610.0</td>\n",
       "      <td>Thann-Guebwiller</td>\n",
       "      <td>France</td>\n",
       "      <td>fr</td>\n",
       "      <td>47.942258</td>\n",
       "      <td>7.149613</td>\n",
       "      <td>NaN</td>\n",
       "      <td>NaN</td>\n",
       "      <td>NaN</td>\n",
       "      <td>NaN</td>\n",
       "      <td>osm:museum</td>\n",
       "      <td>NaN</td>\n",
       "      <td>40747,87175</td>\n",
       "      <td>NaN</td>\n",
       "    </tr>\n",
       "    <tr>\n",
       "      <th>3780</th>\n",
       "      <td>577287841</td>\n",
       "      <td>Voyage au Temps des impressionnistes</td>\n",
       "      <td>NaN</td>\n",
       "      <td>Rue de LÈry</td>\n",
       "      <td>95430.0</td>\n",
       "      <td>Auvers-sur-Oise</td>\n",
       "      <td>France</td>\n",
       "      <td>fr</td>\n",
       "      <td>49.072057</td>\n",
       "      <td>2.166167</td>\n",
       "      <td>NaN</td>\n",
       "      <td>NaN</td>\n",
       "      <td>NaN</td>\n",
       "      <td>NaN</td>\n",
       "      <td>osm:museum</td>\n",
       "      <td>NaN</td>\n",
       "      <td>41141,72722</td>\n",
       "      <td>NaN</td>\n",
       "    </tr>\n",
       "    <tr>\n",
       "      <th>3781</th>\n",
       "      <td>145062184</td>\n",
       "      <td>Wines and Spirits Museum</td>\n",
       "      <td>NaN</td>\n",
       "      <td>Corniche Bonaparte</td>\n",
       "      <td>83150.0</td>\n",
       "      <td>Bandol</td>\n",
       "      <td>France</td>\n",
       "      <td>fr</td>\n",
       "      <td>43.128031</td>\n",
       "      <td>5.749484</td>\n",
       "      <td>NaN</td>\n",
       "      <td>NaN</td>\n",
       "      <td>NaN</td>\n",
       "      <td>NaN</td>\n",
       "      <td>osm:museum</td>\n",
       "      <td>NaN</td>\n",
       "      <td>42367,71351</td>\n",
       "      <td>NaN</td>\n",
       "    </tr>\n",
       "    <tr>\n",
       "      <th>3782</th>\n",
       "      <td>82988725</td>\n",
       "      <td>Xanxotea</td>\n",
       "      <td>NaN</td>\n",
       "      <td>La Place</td>\n",
       "      <td>64240.0</td>\n",
       "      <td>Isturits</td>\n",
       "      <td>France</td>\n",
       "      <td>fr</td>\n",
       "      <td>43.364834</td>\n",
       "      <td>-1.203580</td>\n",
       "      <td>http://www.xanxotea.com/</td>\n",
       "      <td>NaN</td>\n",
       "      <td>NaN</td>\n",
       "      <td>NaN</td>\n",
       "      <td>osm:museum</td>\n",
       "      <td>MusÈe ethnographique Xanxotea pour dÈcouvrir l...</td>\n",
       "      <td>44129,58078</td>\n",
       "      <td>NaN</td>\n",
       "    </tr>\n",
       "    <tr>\n",
       "      <th>3783</th>\n",
       "      <td>277107550</td>\n",
       "      <td>Xylotheque - Kiosque Pedagogique</td>\n",
       "      <td>NaN</td>\n",
       "      <td>Impasse de la Haie Vive</td>\n",
       "      <td>45590.0</td>\n",
       "      <td>Saint-Cyr-en-Val</td>\n",
       "      <td>France</td>\n",
       "      <td>fr</td>\n",
       "      <td>47.825888</td>\n",
       "      <td>1.967795</td>\n",
       "      <td>NaN</td>\n",
       "      <td>NaN</td>\n",
       "      <td>NaN</td>\n",
       "      <td>NaN</td>\n",
       "      <td>osm:museum</td>\n",
       "      <td>NaN</td>\n",
       "      <td>43331,47584</td>\n",
       "      <td>NaN</td>\n",
       "    </tr>\n",
       "  </tbody>\n",
       "</table>\n",
       "<p>3784 rows × 18 columns</p>\n",
       "</div>"
      ],
      "text/plain": [
       "          osm_id                                  name number  \\\n",
       "0     4540234591                               3 bis f    109   \n",
       "1     4388745689                      A casa di Losari    NaN   \n",
       "2     4426176194                      ¿ l'homme volant     35   \n",
       "3     7652598615           Abbadiale - Maison des arts    NaN   \n",
       "4      121580330                                Abbaye    NaN   \n",
       "...          ...                                   ...    ...   \n",
       "3779  1348524503                    Vivarium du Moulin    NaN   \n",
       "3780   577287841  Voyage au Temps des impressionnistes    NaN   \n",
       "3781   145062184              Wines and Spirits Museum    NaN   \n",
       "3782    82988725                              Xanxotea    NaN   \n",
       "3783   277107550      Xylotheque - Kiosque Pedagogique    NaN   \n",
       "\n",
       "                          street  postal_code              city country  \\\n",
       "0     Avenue du Petit BarthÈlÈmy      13617.0   Aix-en-Provence  France   \n",
       "1                           T 30      20226.0         BelgodËre  France   \n",
       "2                     Grande Rue      72300.0  SablÈ-sur-Sarthe  France   \n",
       "3                 Rue du Gabizos      65400.0  Arras-en-Lavedan  France   \n",
       "4                Rue de l'Abbaye      39210.0    Ch‚teau-Chalon  France   \n",
       "...                          ...          ...               ...     ...   \n",
       "3779              Rue Principale      68610.0  Thann-Guebwiller  France   \n",
       "3780                 Rue de LÈry      95430.0   Auvers-sur-Oise  France   \n",
       "3781          Corniche Bonaparte      83150.0            Bandol  France   \n",
       "3782                    La Place      64240.0          Isturits  France   \n",
       "3783     Impasse de la Haie Vive      45590.0  Saint-Cyr-en-Val  France   \n",
       "\n",
       "     country_code        lat       lon                    website  \\\n",
       "0              fr  43.521207  5.439875       http://www.3bisf.com   \n",
       "1              fr  42.638732  9.007660                        NaN   \n",
       "2              fr  47.839656 -0.334043                        NaN   \n",
       "3              fr  42.990826 -0.128057  https://www.abbadiale.fr/   \n",
       "4              fr  46.753866  5.624296                        NaN   \n",
       "...           ...        ...       ...                        ...   \n",
       "3779           fr  47.942258  7.149613                        NaN   \n",
       "3780           fr  49.072057  2.166167                        NaN   \n",
       "3781           fr  43.128031  5.749484                        NaN   \n",
       "3782           fr  43.364834 -1.203580   http://www.xanxotea.com/   \n",
       "3783           fr  47.825888  1.967795                        NaN   \n",
       "\n",
       "                  email        phone  fax  \\\n",
       "0     contact@3bisf.com  33442161775  NaN   \n",
       "1                   NaN          NaN  NaN   \n",
       "2                   NaN  33243950736  NaN   \n",
       "3                   NaN  33633170714  NaN   \n",
       "4                   NaN          NaN  NaN   \n",
       "...                 ...          ...  ...   \n",
       "3779                NaN          NaN  NaN   \n",
       "3780                NaN          NaN  NaN   \n",
       "3781                NaN          NaN  NaN   \n",
       "3782                NaN          NaN  NaN   \n",
       "3783                NaN          NaN  NaN   \n",
       "\n",
       "                                         tags  \\\n",
       "0             osm:museum;art:art contemporain   \n",
       "1                                  osm:museum   \n",
       "2     osm:museum;type:centre d'interpretation   \n",
       "3                                  osm:museum   \n",
       "4                 osm:museum;art:architecture   \n",
       "...                                       ...   \n",
       "3779                               osm:museum   \n",
       "3780                               osm:museum   \n",
       "3781                               osm:museum   \n",
       "3782                               osm:museum   \n",
       "3783                               osm:museum   \n",
       "\n",
       "                                            description   date_added wikidata  \n",
       "0                                                   NaN  44116,00764      NaN  \n",
       "1                                                   NaN   43338,9394      NaN  \n",
       "2                                                   NaN  42644,46366      NaN  \n",
       "3                                                   NaN  44120,04668      NaN  \n",
       "4                                                   NaN  43102,54919      NaN  \n",
       "...                                                 ...          ...      ...  \n",
       "3779                                                NaN  40747,87175      NaN  \n",
       "3780                                                NaN  41141,72722      NaN  \n",
       "3781                                                NaN  42367,71351      NaN  \n",
       "3782  MusÈe ethnographique Xanxotea pour dÈcouvrir l...  44129,58078      NaN  \n",
       "3783                                                NaN  43331,47584      NaN  \n",
       "\n",
       "[3784 rows x 18 columns]"
      ]
     },
     "execution_count": 55,
     "metadata": {},
     "output_type": "execute_result"
    }
   ],
   "source": [
    "datamuseums"
   ]
  },
  {
   "cell_type": "markdown",
   "id": "9f2d725f",
   "metadata": {},
   "source": [
    "# Analyse du fichier"
   ]
  },
  {
   "cell_type": "markdown",
   "id": "5ac4ee40",
   "metadata": {},
   "source": [
    "## Combien y-a-t-il de musées en France métropolitaine ?"
   ]
  },
  {
   "cell_type": "code",
   "execution_count": 233,
   "id": "bc670e53",
   "metadata": {
    "scrolled": true
   },
   "outputs": [
    {
     "data": {
      "text/html": [
       "<div>\n",
       "<style scoped>\n",
       "    .dataframe tbody tr th:only-of-type {\n",
       "        vertical-align: middle;\n",
       "    }\n",
       "\n",
       "    .dataframe tbody tr th {\n",
       "        vertical-align: top;\n",
       "    }\n",
       "\n",
       "    .dataframe thead th {\n",
       "        text-align: right;\n",
       "    }\n",
       "</style>\n",
       "<table border=\"1\" class=\"dataframe\">\n",
       "  <thead>\n",
       "    <tr style=\"text-align: right;\">\n",
       "      <th></th>\n",
       "      <th>osm_id</th>\n",
       "      <th>name</th>\n",
       "      <th>number</th>\n",
       "      <th>street</th>\n",
       "      <th>postal_code</th>\n",
       "      <th>city</th>\n",
       "      <th>country</th>\n",
       "      <th>country_code</th>\n",
       "      <th>lat</th>\n",
       "      <th>lon</th>\n",
       "      <th>website</th>\n",
       "      <th>email</th>\n",
       "      <th>phone</th>\n",
       "      <th>fax</th>\n",
       "      <th>tags</th>\n",
       "      <th>description</th>\n",
       "      <th>date_added</th>\n",
       "      <th>wikidata</th>\n",
       "    </tr>\n",
       "  </thead>\n",
       "  <tbody>\n",
       "    <tr>\n",
       "      <th>count</th>\n",
       "      <td>3784.0</td>\n",
       "      <td>3784</td>\n",
       "      <td>743</td>\n",
       "      <td>3771</td>\n",
       "      <td>3728.0</td>\n",
       "      <td>3782</td>\n",
       "      <td>3784</td>\n",
       "      <td>3784</td>\n",
       "      <td>3784.0</td>\n",
       "      <td>3784.0</td>\n",
       "      <td>1636</td>\n",
       "      <td>301</td>\n",
       "      <td>1211</td>\n",
       "      <td>0.0</td>\n",
       "      <td>3782</td>\n",
       "      <td>226</td>\n",
       "      <td>3775</td>\n",
       "      <td>1147</td>\n",
       "    </tr>\n",
       "    <tr>\n",
       "      <th>unique</th>\n",
       "      <td>NaN</td>\n",
       "      <td>533</td>\n",
       "      <td>196</td>\n",
       "      <td>2932</td>\n",
       "      <td>NaN</td>\n",
       "      <td>2295</td>\n",
       "      <td>2</td>\n",
       "      <td>2</td>\n",
       "      <td>NaN</td>\n",
       "      <td>NaN</td>\n",
       "      <td>1585</td>\n",
       "      <td>295</td>\n",
       "      <td>1163</td>\n",
       "      <td>NaN</td>\n",
       "      <td>119</td>\n",
       "      <td>206</td>\n",
       "      <td>3331</td>\n",
       "      <td>1133</td>\n",
       "    </tr>\n",
       "    <tr>\n",
       "      <th>top</th>\n",
       "      <td>NaN</td>\n",
       "      <td>MusÈe</td>\n",
       "      <td>1</td>\n",
       "      <td>Grande Rue</td>\n",
       "      <td>NaN</td>\n",
       "      <td>Paris</td>\n",
       "      <td>France</td>\n",
       "      <td>fr</td>\n",
       "      <td>NaN</td>\n",
       "      <td>NaN</td>\n",
       "      <td>http://www.ville-orleans.fr</td>\n",
       "      <td>musees@ville.angers.fr</td>\n",
       "      <td>33325868686</td>\n",
       "      <td>NaN</td>\n",
       "      <td>osm:museum</td>\n",
       "      <td>EcomusÈe</td>\n",
       "      <td>43940,5849</td>\n",
       "      <td>Q3329951</td>\n",
       "    </tr>\n",
       "  </tbody>\n",
       "</table>\n",
       "</div>"
      ],
      "text/plain": [
       "        osm_id   name number      street  postal_code   city country  \\\n",
       "count   3784.0   3784    743        3771       3728.0   3782    3784   \n",
       "unique     NaN    533    196        2932          NaN   2295       2   \n",
       "top        NaN  MusÈe      1  Grande Rue          NaN  Paris  France   \n",
       "\n",
       "       country_code     lat     lon                      website  \\\n",
       "count          3784  3784.0  3784.0                         1636   \n",
       "unique            2     NaN     NaN                         1585   \n",
       "top              fr     NaN     NaN  http://www.ville-orleans.fr   \n",
       "\n",
       "                         email        phone  fax        tags description  \\\n",
       "count                      301         1211  0.0        3782         226   \n",
       "unique                     295         1163  NaN         119         206   \n",
       "top     musees@ville.angers.fr  33325868686  NaN  osm:museum    EcomusÈe   \n",
       "\n",
       "        date_added  wikidata  \n",
       "count         3775      1147  \n",
       "unique        3331      1133  \n",
       "top     43940,5849  Q3329951  "
      ]
     },
     "execution_count": 233,
     "metadata": {},
     "output_type": "execute_result"
    }
   ],
   "source": [
    "datamuseums.describe(include=\"all\").head(3)"
   ]
  },
  {
   "cell_type": "markdown",
   "id": "c884a8e9",
   "metadata": {},
   "source": [
    "#### En observant la colonne \"name\", et la ligne \"count\", on apprend qu'il y a 3784 musées référencés en France. "
   ]
  },
  {
   "attachments": {
    "Capture%20d%E2%80%99e%CC%81cran%202022-04-26%20a%CC%80%2010.44.43.png": {
     "image/png": "[encoded data removed]"
    }
   },
   "cell_type": "markdown",
   "id": "bf438113",
   "metadata": {},
   "source": [
    "\n",
    "\n",
    "![Capture%20d%E2%80%99e%CC%81cran%202022-04-26%20a%CC%80%2010.44.43.png](attachment:Capture%20d%E2%80%99e%CC%81cran%202022-04-26%20a%CC%80%2010.44.43.png)\n",
    "\n"
   ]
  },
  {
   "cell_type": "markdown",
   "id": "f6f076ac",
   "metadata": {},
   "source": [
    "(Il ne faut pas prendre en compte la ligne \"unique\" qui donne un résultat inférieur, montrant ainsi que plusieurs musées différents ont le même nom.)"
   ]
  },
  {
   "cell_type": "markdown",
   "id": "5a0973d4",
   "metadata": {},
   "source": [
    "## Dans quelle(s) ville(s) y-a-t-il de plus de musées ?"
   ]
  },
  {
   "cell_type": "markdown",
   "id": "43d1d559",
   "metadata": {},
   "source": [
    "#### Dans le tableau de la question précédente, on peut apprendre que la ville avec le plus de musée (= ville le plus de fois présente dans la colonne \"city\", est Paris."
   ]
  },
  {
   "attachments": {
    "Capture%20d%E2%80%99e%CC%81cran%202022-04-26%20a%CC%80%2011.04.21.png": {
     "image/png": "[encoded data removed]"
    }
   },
   "cell_type": "markdown",
   "id": "985f5fb9",
   "metadata": {},
   "source": [
    "![Capture%20d%E2%80%99e%CC%81cran%202022-04-26%20a%CC%80%2011.04.21.png](attachment:Capture%20d%E2%80%99e%CC%81cran%202022-04-26%20a%CC%80%2011.04.21.png)"
   ]
  },
  {
   "cell_type": "markdown",
   "id": "cbfd0b3b",
   "metadata": {},
   "source": [
    "### Autre méthode"
   ]
  },
  {
   "cell_type": "code",
   "execution_count": 305,
   "id": "e870daca",
   "metadata": {},
   "outputs": [],
   "source": [
    "#Réalisation d'un tableau recensant le nombre de musées par ville\n",
    "museumpercity = datamuseums.pivot_table(\n",
    "     index='city',\n",
    "     values='name',\n",
    "     aggfunc=np.count_nonzero\n",
    ")"
   ]
  },
  {
   "cell_type": "code",
   "execution_count": 87,
   "id": "0cf57d17",
   "metadata": {},
   "outputs": [
    {
     "data": {
      "text/html": [
       "<div>\n",
       "<style scoped>\n",
       "    .dataframe tbody tr th:only-of-type {\n",
       "        vertical-align: middle;\n",
       "    }\n",
       "\n",
       "    .dataframe tbody tr th {\n",
       "        vertical-align: top;\n",
       "    }\n",
       "\n",
       "    .dataframe thead th {\n",
       "        text-align: right;\n",
       "    }\n",
       "</style>\n",
       "<table border=\"1\" class=\"dataframe\">\n",
       "  <thead>\n",
       "    <tr style=\"text-align: right;\">\n",
       "      <th></th>\n",
       "      <th>name</th>\n",
       "    </tr>\n",
       "    <tr>\n",
       "      <th>city</th>\n",
       "      <th></th>\n",
       "    </tr>\n",
       "  </thead>\n",
       "  <tbody>\n",
       "    <tr>\n",
       "      <th>Abbeville</th>\n",
       "      <td>1</td>\n",
       "    </tr>\n",
       "    <tr>\n",
       "      <th>Abilly</th>\n",
       "      <td>1</td>\n",
       "    </tr>\n",
       "    <tr>\n",
       "      <th>Ablain-Saint-Nazaire</th>\n",
       "      <td>2</td>\n",
       "    </tr>\n",
       "    <tr>\n",
       "      <th>Abondance</th>\n",
       "      <td>1</td>\n",
       "    </tr>\n",
       "    <tr>\n",
       "      <th>Agde</th>\n",
       "      <td>2</td>\n",
       "    </tr>\n",
       "    <tr>\n",
       "      <th>...</th>\n",
       "      <td>...</td>\n",
       "    </tr>\n",
       "    <tr>\n",
       "      <th>…trepigney</th>\n",
       "      <td>2</td>\n",
       "    </tr>\n",
       "    <tr>\n",
       "      <th>…tretat</th>\n",
       "      <td>2</td>\n",
       "    </tr>\n",
       "    <tr>\n",
       "      <th>…tueffont</th>\n",
       "      <td>1</td>\n",
       "    </tr>\n",
       "    <tr>\n",
       "      <th>…vian-les-Bains</th>\n",
       "      <td>3</td>\n",
       "    </tr>\n",
       "    <tr>\n",
       "      <th>…vreux</th>\n",
       "      <td>1</td>\n",
       "    </tr>\n",
       "  </tbody>\n",
       "</table>\n",
       "<p>2295 rows × 1 columns</p>\n",
       "</div>"
      ],
      "text/plain": [
       "                      name\n",
       "city                      \n",
       "Abbeville                1\n",
       "Abilly                   1\n",
       "Ablain-Saint-Nazaire     2\n",
       "Abondance                1\n",
       "Agde                     2\n",
       "...                    ...\n",
       "…trepigney               2\n",
       "…tretat                  2\n",
       "…tueffont                1\n",
       "…vian-les-Bains          3\n",
       "…vreux                   1\n",
       "\n",
       "[2295 rows x 1 columns]"
      ]
     },
     "execution_count": 87,
     "metadata": {},
     "output_type": "execute_result"
    }
   ],
   "source": [
    "museumpercity"
   ]
  },
  {
   "cell_type": "markdown",
   "id": "c0c221a3",
   "metadata": {},
   "source": [
    "### Top 3 des villes avec le plus de musées"
   ]
  },
  {
   "cell_type": "code",
   "execution_count": 234,
   "id": "6bd3ace9",
   "metadata": {},
   "outputs": [
    {
     "data": {
      "text/html": [
       "<div>\n",
       "<style scoped>\n",
       "    .dataframe tbody tr th:only-of-type {\n",
       "        vertical-align: middle;\n",
       "    }\n",
       "\n",
       "    .dataframe tbody tr th {\n",
       "        vertical-align: top;\n",
       "    }\n",
       "\n",
       "    .dataframe thead th {\n",
       "        text-align: right;\n",
       "    }\n",
       "</style>\n",
       "<table border=\"1\" class=\"dataframe\">\n",
       "  <thead>\n",
       "    <tr style=\"text-align: right;\">\n",
       "      <th></th>\n",
       "      <th>name</th>\n",
       "    </tr>\n",
       "    <tr>\n",
       "      <th>city</th>\n",
       "      <th></th>\n",
       "    </tr>\n",
       "  </thead>\n",
       "  <tbody>\n",
       "    <tr>\n",
       "      <th>Paris</th>\n",
       "      <td>175</td>\n",
       "    </tr>\n",
       "    <tr>\n",
       "      <th>Lyon</th>\n",
       "      <td>33</td>\n",
       "    </tr>\n",
       "    <tr>\n",
       "      <th>Marseille</th>\n",
       "      <td>28</td>\n",
       "    </tr>\n",
       "  </tbody>\n",
       "</table>\n",
       "</div>"
      ],
      "text/plain": [
       "           name\n",
       "city           \n",
       "Paris       175\n",
       "Lyon         33\n",
       "Marseille    28"
      ]
     },
     "execution_count": 234,
     "metadata": {},
     "output_type": "execute_result"
    }
   ],
   "source": [
    "museumpercity.sort_values('name',ascending=False)[:3]"
   ]
  },
  {
   "cell_type": "markdown",
   "id": "80e94b98",
   "metadata": {},
   "source": [
    "#### La ville avec le plus de musées est bien Paris, avec 175 musées. Vient ensuite la ville de Lyon puis de Marseille."
   ]
  },
  {
   "cell_type": "markdown",
   "id": "766eeab1",
   "metadata": {},
   "source": [
    "## Quel est le nombre moyen de musées par ville ?"
   ]
  },
  {
   "cell_type": "code",
   "execution_count": 14,
   "id": "f371dc9b",
   "metadata": {},
   "outputs": [
    {
     "data": {
      "text/plain": [
       "name    1.64793\n",
       "dtype: float64"
      ]
     },
     "execution_count": 14,
     "metadata": {},
     "output_type": "execute_result"
    }
   ],
   "source": [
    "museumpercity.mean(axis='index')"
   ]
  },
  {
   "cell_type": "markdown",
   "id": "c6546322",
   "metadata": {},
   "source": [
    "#### Le nombre moyen est de 1,64 musées par ville. Il y a donc un peu moins de deux musées par ville en moyenne."
   ]
  },
  {
   "cell_type": "markdown",
   "id": "b00cf3bb",
   "metadata": {},
   "source": [
    "## Quel est le nombre médian de musées par ville ?"
   ]
  },
  {
   "cell_type": "code",
   "execution_count": 15,
   "id": "423c448b",
   "metadata": {
    "scrolled": true
   },
   "outputs": [
    {
     "data": {
      "text/plain": [
       "name    1.0\n",
       "dtype: float64"
      ]
     },
     "execution_count": 15,
     "metadata": {},
     "output_type": "execute_result"
    }
   ],
   "source": [
    "museumpercity.median(axis='index')"
   ]
  },
  {
   "cell_type": "markdown",
   "id": "caaf86ea",
   "metadata": {},
   "source": [
    "#### Le nombre médian de musées par ville est 1. La majorité des villes n'ont donc qu'un seul musée."
   ]
  },
  {
   "cell_type": "markdown",
   "id": "867ef93f",
   "metadata": {},
   "source": [
    "## Comment sont répartis les musées par type (en pourcentage) ?"
   ]
  },
  {
   "cell_type": "markdown",
   "id": "dd75e2d9",
   "metadata": {},
   "source": [
    "#### ...Je ne vois pas comment faire ça 🤷‍♀️. Je n'arrive pas à trouver les occurrences dans les colonnes (même problème que pour Napoléon)."
   ]
  },
  {
   "cell_type": "markdown",
   "id": "391d2d63",
   "metadata": {},
   "source": [
    "## Combien y-a-t-il de musées dont le nom commence par \"Château\" ?"
   ]
  },
  {
   "cell_type": "markdown",
   "id": "bd78e6bf",
   "metadata": {},
   "source": [
    "##### Le fichier .csv présente une erreur de syntaxe lié aux accent. Je remplace donc tous les \",\" par \"â\", car tous les \"Château\" sont actuellement indiqués \"Ch,teau\"."
   ]
  },
  {
   "cell_type": "code",
   "execution_count": 273,
   "id": "0d91e502",
   "metadata": {},
   "outputs": [],
   "source": [
    "datachateau = datamuseums['name'].astype(str).str.replace(',','â')"
   ]
  },
  {
   "cell_type": "code",
   "execution_count": 274,
   "id": "0d23841b",
   "metadata": {},
   "outputs": [
    {
     "data": {
      "text/plain": [
       "MusÈe       1871\n",
       "Maison       345\n",
       "La           127\n",
       "Le           103\n",
       "EcomusÈe      81\n",
       "Espace        73\n",
       "Centre        72\n",
       "Ch‚teau       48\n",
       "Les           33\n",
       "Galerie       23\n",
       "Name: name, dtype: int64"
      ]
     },
     "execution_count": 274,
     "metadata": {},
     "output_type": "execute_result"
    }
   ],
   "source": [
    "#J'isole tous les premiers mots de la colonne \"name\", et je les comptes\n",
    "datachateaubis = datachateau.str.split(' ').str[0].value_counts()\n",
    "datachateaubis.head(10)"
   ]
  },
  {
   "cell_type": "markdown",
   "id": "1ae61036",
   "metadata": {},
   "source": [
    "#### Il y a donc 48 musées dont le nom commence par \"Château\". (Je n'arrive pas à comprendre pourquoi la virgule n'a pas été remplacée par \"â\"...)"
   ]
  },
  {
   "cell_type": "markdown",
   "id": "ea7e9548",
   "metadata": {},
   "source": [
    "## Pour combien de musées dispose-t-on de l'adresse du site web ?"
   ]
  },
  {
   "cell_type": "code",
   "execution_count": 112,
   "id": "f61c6e69",
   "metadata": {},
   "outputs": [],
   "source": [
    "# Mise en place d'un tableau qui référence toutes les villes avec un email\n",
    "museumwithwebsite = datamuseums.pivot_table(\n",
    "     index='website',\n",
    "     values='name',\n",
    "     aggfunc=np.count_nonzero\n",
    ")"
   ]
  },
  {
   "cell_type": "code",
   "execution_count": 113,
   "id": "23fae4f0",
   "metadata": {},
   "outputs": [
    {
     "data": {
      "text/html": [
       "<div>\n",
       "<style scoped>\n",
       "    .dataframe tbody tr th:only-of-type {\n",
       "        vertical-align: middle;\n",
       "    }\n",
       "\n",
       "    .dataframe tbody tr th {\n",
       "        vertical-align: top;\n",
       "    }\n",
       "\n",
       "    .dataframe thead th {\n",
       "        text-align: right;\n",
       "    }\n",
       "</style>\n",
       "<table border=\"1\" class=\"dataframe\">\n",
       "  <thead>\n",
       "    <tr style=\"text-align: right;\">\n",
       "      <th></th>\n",
       "      <th>name</th>\n",
       "    </tr>\n",
       "    <tr>\n",
       "      <th>website</th>\n",
       "      <th></th>\n",
       "    </tr>\n",
       "  </thead>\n",
       "  <tbody>\n",
       "    <tr>\n",
       "      <th>asepam.org</th>\n",
       "      <td>1</td>\n",
       "    </tr>\n",
       "    <tr>\n",
       "      <th>bibliotheque@rouen.fr</th>\n",
       "      <td>1</td>\n",
       "    </tr>\n",
       "    <tr>\n",
       "      <th>http:///www.culture.gouv.fr/champagne-ardenne/2culture/musee_france/musee_bazeilles.html</th>\n",
       "      <td>1</td>\n",
       "    </tr>\n",
       "    <tr>\n",
       "      <th>http://MOSSET.FR/ART/TOUR-DES-PARFUMS</th>\n",
       "      <td>1</td>\n",
       "    </tr>\n",
       "    <tr>\n",
       "      <th>http://a-mi.fr/</th>\n",
       "      <td>1</td>\n",
       "    </tr>\n",
       "  </tbody>\n",
       "</table>\n",
       "</div>"
      ],
      "text/plain": [
       "                                                    name\n",
       "website                                                 \n",
       "asepam.org                                             1\n",
       "bibliotheque@rouen.fr                                  1\n",
       "http:///www.culture.gouv.fr/champagne-ardenne/2...     1\n",
       "http://MOSSET.FR/ART/TOUR-DES-PARFUMS                  1\n",
       "http://a-mi.fr/                                        1"
      ]
     },
     "execution_count": 113,
     "metadata": {},
     "output_type": "execute_result"
    }
   ],
   "source": [
    "# 5 premières lignes du tableau\n",
    "museumwithwebsite.head(5)"
   ]
  },
  {
   "cell_type": "code",
   "execution_count": 114,
   "id": "60f25167",
   "metadata": {},
   "outputs": [
    {
     "data": {
      "text/plain": [
       "name    1636\n",
       "dtype: int64"
      ]
     },
     "execution_count": 114,
     "metadata": {},
     "output_type": "execute_result"
    }
   ],
   "source": [
    "# Somme de toutes ces villes\n",
    "museumwithwebsite.sum(axis='index')"
   ]
  },
  {
   "cell_type": "markdown",
   "id": "8e8051cf",
   "metadata": {},
   "source": [
    "#### Il y a donc 1636 musées pour qui nous disposons de l'adresse du site web."
   ]
  },
  {
   "cell_type": "markdown",
   "id": "c193b592",
   "metadata": {},
   "source": [
    "## Quel département français possède le plus de musées sur son territoire ?"
   ]
  },
  {
   "cell_type": "markdown",
   "id": "35ece7ff",
   "metadata": {},
   "source": [
    "#### Dans le fichier .csv, nous n'avons que les code postaux. Pour travailler avec les départements, il est donc nécessaire de ne garder que les deux premiers chiffres du code postal, correspondants au département."
   ]
  },
  {
   "cell_type": "code",
   "execution_count": 83,
   "id": "618ed3f3",
   "metadata": {},
   "outputs": [],
   "source": [
    "#pour utiliser la formule souhaitée, de transforme mes integers en string.\n",
    "datamuseums['postal_code'] = datamuseums['postal_code'].astype(str).str[:2]\n",
    "#apparemment pas nécessaire de le reformater en .astype(np.int64)...\n",
    "\n",
    "#Comme les codes-postaux n'en sont plus. Je change la colonne \"postal_code\" en \"departement\"\n",
    "datamuseums.rename( columns={'postal_code':'departement'} ,inplace=True)"
   ]
  },
  {
   "cell_type": "markdown",
   "id": "dd48e1ad",
   "metadata": {},
   "source": [
    "#### Vérification"
   ]
  },
  {
   "cell_type": "code",
   "execution_count": 84,
   "id": "ba8a2b42",
   "metadata": {},
   "outputs": [
    {
     "data": {
      "text/html": [
       "<div>\n",
       "<style scoped>\n",
       "    .dataframe tbody tr th:only-of-type {\n",
       "        vertical-align: middle;\n",
       "    }\n",
       "\n",
       "    .dataframe tbody tr th {\n",
       "        vertical-align: top;\n",
       "    }\n",
       "\n",
       "    .dataframe thead th {\n",
       "        text-align: right;\n",
       "    }\n",
       "</style>\n",
       "<table border=\"1\" class=\"dataframe\">\n",
       "  <thead>\n",
       "    <tr style=\"text-align: right;\">\n",
       "      <th></th>\n",
       "      <th>osm_id</th>\n",
       "      <th>name</th>\n",
       "      <th>number</th>\n",
       "      <th>street</th>\n",
       "      <th>departement</th>\n",
       "      <th>city</th>\n",
       "      <th>country</th>\n",
       "      <th>country_code</th>\n",
       "      <th>lat</th>\n",
       "      <th>lon</th>\n",
       "      <th>website</th>\n",
       "      <th>email</th>\n",
       "      <th>phone</th>\n",
       "      <th>fax</th>\n",
       "      <th>tags</th>\n",
       "      <th>description</th>\n",
       "      <th>date_added</th>\n",
       "      <th>wikidata</th>\n",
       "    </tr>\n",
       "  </thead>\n",
       "  <tbody>\n",
       "    <tr>\n",
       "      <th>0</th>\n",
       "      <td>4540234591</td>\n",
       "      <td>3 bis f</td>\n",
       "      <td>109</td>\n",
       "      <td>Avenue du Petit BarthÈlÈmy</td>\n",
       "      <td>13</td>\n",
       "      <td>Aix-en-Provence</td>\n",
       "      <td>France</td>\n",
       "      <td>fr</td>\n",
       "      <td>43.521207</td>\n",
       "      <td>5.439875</td>\n",
       "      <td>http://www.3bisf.com</td>\n",
       "      <td>contact@3bisf.com</td>\n",
       "      <td>33442161775</td>\n",
       "      <td>NaN</td>\n",
       "      <td>osm:museum;art:art contemporain</td>\n",
       "      <td>NaN</td>\n",
       "      <td>44116,00764</td>\n",
       "      <td>NaN</td>\n",
       "    </tr>\n",
       "    <tr>\n",
       "      <th>1</th>\n",
       "      <td>4388745689</td>\n",
       "      <td>A casa di Losari</td>\n",
       "      <td>NaN</td>\n",
       "      <td>T 30</td>\n",
       "      <td>20</td>\n",
       "      <td>BelgodËre</td>\n",
       "      <td>France</td>\n",
       "      <td>fr</td>\n",
       "      <td>42.638732</td>\n",
       "      <td>9.007660</td>\n",
       "      <td>NaN</td>\n",
       "      <td>NaN</td>\n",
       "      <td>NaN</td>\n",
       "      <td>NaN</td>\n",
       "      <td>osm:museum</td>\n",
       "      <td>NaN</td>\n",
       "      <td>43338,9394</td>\n",
       "      <td>NaN</td>\n",
       "    </tr>\n",
       "    <tr>\n",
       "      <th>2</th>\n",
       "      <td>4426176194</td>\n",
       "      <td>¿ l'homme volant</td>\n",
       "      <td>35</td>\n",
       "      <td>Grande Rue</td>\n",
       "      <td>72</td>\n",
       "      <td>SablÈ-sur-Sarthe</td>\n",
       "      <td>France</td>\n",
       "      <td>fr</td>\n",
       "      <td>47.839656</td>\n",
       "      <td>-0.334043</td>\n",
       "      <td>NaN</td>\n",
       "      <td>NaN</td>\n",
       "      <td>33243950736</td>\n",
       "      <td>NaN</td>\n",
       "      <td>osm:museum;type:centre d'interpretation</td>\n",
       "      <td>NaN</td>\n",
       "      <td>42644,46366</td>\n",
       "      <td>NaN</td>\n",
       "    </tr>\n",
       "    <tr>\n",
       "      <th>3</th>\n",
       "      <td>7652598615</td>\n",
       "      <td>Abbadiale - Maison des arts</td>\n",
       "      <td>NaN</td>\n",
       "      <td>Rue du Gabizos</td>\n",
       "      <td>65</td>\n",
       "      <td>Arras-en-Lavedan</td>\n",
       "      <td>France</td>\n",
       "      <td>fr</td>\n",
       "      <td>42.990826</td>\n",
       "      <td>-0.128057</td>\n",
       "      <td>https://www.abbadiale.fr/</td>\n",
       "      <td>NaN</td>\n",
       "      <td>33633170714</td>\n",
       "      <td>NaN</td>\n",
       "      <td>osm:museum</td>\n",
       "      <td>NaN</td>\n",
       "      <td>44120,04668</td>\n",
       "      <td>NaN</td>\n",
       "    </tr>\n",
       "    <tr>\n",
       "      <th>4</th>\n",
       "      <td>121580330</td>\n",
       "      <td>Abbaye</td>\n",
       "      <td>NaN</td>\n",
       "      <td>Rue de l'Abbaye</td>\n",
       "      <td>39</td>\n",
       "      <td>Ch‚teau-Chalon</td>\n",
       "      <td>France</td>\n",
       "      <td>fr</td>\n",
       "      <td>46.753866</td>\n",
       "      <td>5.624296</td>\n",
       "      <td>NaN</td>\n",
       "      <td>NaN</td>\n",
       "      <td>NaN</td>\n",
       "      <td>NaN</td>\n",
       "      <td>osm:museum;art:architecture</td>\n",
       "      <td>NaN</td>\n",
       "      <td>43102,54919</td>\n",
       "      <td>NaN</td>\n",
       "    </tr>\n",
       "  </tbody>\n",
       "</table>\n",
       "</div>"
      ],
      "text/plain": [
       "       osm_id                         name number                      street  \\\n",
       "0  4540234591                      3 bis f    109  Avenue du Petit BarthÈlÈmy   \n",
       "1  4388745689             A casa di Losari    NaN                        T 30   \n",
       "2  4426176194             ¿ l'homme volant     35                  Grande Rue   \n",
       "3  7652598615  Abbadiale - Maison des arts    NaN              Rue du Gabizos   \n",
       "4   121580330                       Abbaye    NaN             Rue de l'Abbaye   \n",
       "\n",
       "  departement              city country country_code        lat       lon  \\\n",
       "0          13   Aix-en-Provence  France           fr  43.521207  5.439875   \n",
       "1          20         BelgodËre  France           fr  42.638732  9.007660   \n",
       "2          72  SablÈ-sur-Sarthe  France           fr  47.839656 -0.334043   \n",
       "3          65  Arras-en-Lavedan  France           fr  42.990826 -0.128057   \n",
       "4          39    Ch‚teau-Chalon  France           fr  46.753866  5.624296   \n",
       "\n",
       "                     website              email        phone  fax  \\\n",
       "0       http://www.3bisf.com  contact@3bisf.com  33442161775  NaN   \n",
       "1                        NaN                NaN          NaN  NaN   \n",
       "2                        NaN                NaN  33243950736  NaN   \n",
       "3  https://www.abbadiale.fr/                NaN  33633170714  NaN   \n",
       "4                        NaN                NaN          NaN  NaN   \n",
       "\n",
       "                                      tags description   date_added wikidata  \n",
       "0          osm:museum;art:art contemporain         NaN  44116,00764      NaN  \n",
       "1                               osm:museum         NaN   43338,9394      NaN  \n",
       "2  osm:museum;type:centre d'interpretation         NaN  42644,46366      NaN  \n",
       "3                               osm:museum         NaN  44120,04668      NaN  \n",
       "4              osm:museum;art:architecture         NaN  43102,54919      NaN  "
      ]
     },
     "execution_count": 84,
     "metadata": {},
     "output_type": "execute_result"
    }
   ],
   "source": [
    "datamuseums.head(5)"
   ]
  },
  {
   "cell_type": "code",
   "execution_count": 91,
   "id": "5e9af460",
   "metadata": {},
   "outputs": [],
   "source": [
    "# Réalisation d'un tableau recensant le nombre de musées par département\n",
    "museumperdepartment = datamuseums.pivot_table(\n",
    "     index='departement',\n",
    "     values='name',\n",
    "     aggfunc=np.count_nonzero\n",
    ")"
   ]
  },
  {
   "cell_type": "code",
   "execution_count": 92,
   "id": "60bc82fa",
   "metadata": {},
   "outputs": [
    {
     "data": {
      "text/html": [
       "<div>\n",
       "<style scoped>\n",
       "    .dataframe tbody tr th:only-of-type {\n",
       "        vertical-align: middle;\n",
       "    }\n",
       "\n",
       "    .dataframe tbody tr th {\n",
       "        vertical-align: top;\n",
       "    }\n",
       "\n",
       "    .dataframe thead th {\n",
       "        text-align: right;\n",
       "    }\n",
       "</style>\n",
       "<table border=\"1\" class=\"dataframe\">\n",
       "  <thead>\n",
       "    <tr style=\"text-align: right;\">\n",
       "      <th></th>\n",
       "      <th>name</th>\n",
       "    </tr>\n",
       "    <tr>\n",
       "      <th>departement</th>\n",
       "      <th></th>\n",
       "    </tr>\n",
       "  </thead>\n",
       "  <tbody>\n",
       "    <tr>\n",
       "      <th>10</th>\n",
       "      <td>15</td>\n",
       "    </tr>\n",
       "    <tr>\n",
       "      <th>11</th>\n",
       "      <td>40</td>\n",
       "    </tr>\n",
       "    <tr>\n",
       "      <th>12</th>\n",
       "      <td>57</td>\n",
       "    </tr>\n",
       "    <tr>\n",
       "      <th>13</th>\n",
       "      <td>90</td>\n",
       "    </tr>\n",
       "    <tr>\n",
       "      <th>14</th>\n",
       "      <td>69</td>\n",
       "    </tr>\n",
       "    <tr>\n",
       "      <th>...</th>\n",
       "      <td>...</td>\n",
       "    </tr>\n",
       "    <tr>\n",
       "      <th>93</th>\n",
       "      <td>14</td>\n",
       "    </tr>\n",
       "    <tr>\n",
       "      <th>94</th>\n",
       "      <td>17</td>\n",
       "    </tr>\n",
       "    <tr>\n",
       "      <th>95</th>\n",
       "      <td>29</td>\n",
       "    </tr>\n",
       "    <tr>\n",
       "      <th>98</th>\n",
       "      <td>8</td>\n",
       "    </tr>\n",
       "    <tr>\n",
       "      <th>n</th>\n",
       "      <td>56</td>\n",
       "    </tr>\n",
       "  </tbody>\n",
       "</table>\n",
       "<p>88 rows × 1 columns</p>\n",
       "</div>"
      ],
      "text/plain": [
       "             name\n",
       "departement      \n",
       "10             15\n",
       "11             40\n",
       "12             57\n",
       "13             90\n",
       "14             69\n",
       "...           ...\n",
       "93             14\n",
       "94             17\n",
       "95             29\n",
       "98              8\n",
       "n              56\n",
       "\n",
       "[88 rows x 1 columns]"
      ]
     },
     "execution_count": 92,
     "metadata": {},
     "output_type": "execute_result"
    }
   ],
   "source": [
    "museumperdepartment"
   ]
  },
  {
   "cell_type": "code",
   "execution_count": 93,
   "id": "409d8211",
   "metadata": {},
   "outputs": [
    {
     "data": {
      "text/html": [
       "<div>\n",
       "<style scoped>\n",
       "    .dataframe tbody tr th:only-of-type {\n",
       "        vertical-align: middle;\n",
       "    }\n",
       "\n",
       "    .dataframe tbody tr th {\n",
       "        vertical-align: top;\n",
       "    }\n",
       "\n",
       "    .dataframe thead th {\n",
       "        text-align: right;\n",
       "    }\n",
       "</style>\n",
       "<table border=\"1\" class=\"dataframe\">\n",
       "  <thead>\n",
       "    <tr style=\"text-align: right;\">\n",
       "      <th></th>\n",
       "      <th>name</th>\n",
       "    </tr>\n",
       "    <tr>\n",
       "      <th>departement</th>\n",
       "      <th></th>\n",
       "    </tr>\n",
       "  </thead>\n",
       "  <tbody>\n",
       "    <tr>\n",
       "      <th>75</th>\n",
       "      <td>180</td>\n",
       "    </tr>\n",
       "    <tr>\n",
       "      <th>59</th>\n",
       "      <td>97</td>\n",
       "    </tr>\n",
       "    <tr>\n",
       "      <th>33</th>\n",
       "      <td>94</td>\n",
       "    </tr>\n",
       "  </tbody>\n",
       "</table>\n",
       "</div>"
      ],
      "text/plain": [
       "             name\n",
       "departement      \n",
       "75            180\n",
       "59             97\n",
       "33             94"
      ]
     },
     "execution_count": 93,
     "metadata": {},
     "output_type": "execute_result"
    }
   ],
   "source": [
    "# Visualisation du top3 des départements avec le plus de musées\n",
    "museumperdepartment.sort_values('name',ascending=False)[:3]"
   ]
  },
  {
   "cell_type": "markdown",
   "id": "b228444c",
   "metadata": {},
   "source": [
    "#### Le département avec le plus de musées est sans surprise le 75 (Paris)."
   ]
  },
  {
   "cell_type": "markdown",
   "id": "3e5f283d",
   "metadata": {},
   "source": [
    "## Quel département français possède le moins de musées sur son territoire ?"
   ]
  },
  {
   "cell_type": "code",
   "execution_count": 94,
   "id": "a4b73439",
   "metadata": {},
   "outputs": [
    {
     "data": {
      "text/html": [
       "<div>\n",
       "<style scoped>\n",
       "    .dataframe tbody tr th:only-of-type {\n",
       "        vertical-align: middle;\n",
       "    }\n",
       "\n",
       "    .dataframe tbody tr th {\n",
       "        vertical-align: top;\n",
       "    }\n",
       "\n",
       "    .dataframe thead th {\n",
       "        text-align: right;\n",
       "    }\n",
       "</style>\n",
       "<table border=\"1\" class=\"dataframe\">\n",
       "  <thead>\n",
       "    <tr style=\"text-align: right;\">\n",
       "      <th></th>\n",
       "      <th>name</th>\n",
       "    </tr>\n",
       "    <tr>\n",
       "      <th>departement</th>\n",
       "      <th></th>\n",
       "    </tr>\n",
       "  </thead>\n",
       "  <tbody>\n",
       "    <tr>\n",
       "      <th>98</th>\n",
       "      <td>8</td>\n",
       "    </tr>\n",
       "    <tr>\n",
       "      <th>48</th>\n",
       "      <td>9</td>\n",
       "    </tr>\n",
       "    <tr>\n",
       "      <th>90</th>\n",
       "      <td>10</td>\n",
       "    </tr>\n",
       "  </tbody>\n",
       "</table>\n",
       "</div>"
      ],
      "text/plain": [
       "             name\n",
       "departement      \n",
       "98              8\n",
       "48              9\n",
       "90             10"
      ]
     },
     "execution_count": 94,
     "metadata": {},
     "output_type": "execute_result"
    }
   ],
   "source": [
    "# Visualisation du flop3 des départements avec le moins de musées\n",
    "museumperdepartment.sort_values('name',ascending=True)[:3]"
   ]
  },
  {
   "cell_type": "markdown",
   "id": "cdbb2d03",
   "metadata": {},
   "source": [
    "#### Le département avec le moins de musées est le 98 (France d'outre-mer). En métropôle, c'est le 48 (Lozère) qui possède le moins de musées."
   ]
  },
  {
   "cell_type": "markdown",
   "id": "245d72d2",
   "metadata": {},
   "source": [
    "## Combien de musées ont \"Napoléon\" dans leur nom ?"
   ]
  },
  {
   "cell_type": "markdown",
   "id": "aa2a22f8",
   "metadata": {},
   "source": [
    "##### Le fichier .csv présente une erreur de syntaxe lié aux accent. Je remplace donc tous les \"È\" par \"é\", car tous les \"Napoléon\" sont actuellement indiqués \"NapolÈon\"."
   ]
  },
  {
   "cell_type": "code",
   "execution_count": 294,
   "id": "a105012b",
   "metadata": {},
   "outputs": [],
   "source": [
    "datamuseumsnap['name'] = datamuseums['name'].str.replace('È','é')"
   ]
  },
  {
   "cell_type": "code",
   "execution_count": 303,
   "id": "a4ea3926",
   "metadata": {},
   "outputs": [
    {
     "data": {
      "text/html": [
       "<div>\n",
       "<style scoped>\n",
       "    .dataframe tbody tr th:only-of-type {\n",
       "        vertical-align: middle;\n",
       "    }\n",
       "\n",
       "    .dataframe tbody tr th {\n",
       "        vertical-align: top;\n",
       "    }\n",
       "\n",
       "    .dataframe thead th {\n",
       "        text-align: right;\n",
       "    }\n",
       "</style>\n",
       "<table border=\"1\" class=\"dataframe\">\n",
       "  <thead>\n",
       "    <tr style=\"text-align: right;\">\n",
       "      <th></th>\n",
       "      <th>name</th>\n",
       "    </tr>\n",
       "  </thead>\n",
       "  <tbody>\n",
       "  </tbody>\n",
       "</table>\n",
       "</div>"
      ],
      "text/plain": [
       "Empty DataFrame\n",
       "Columns: [name]\n",
       "Index: []"
      ]
     },
     "execution_count": 303,
     "metadata": {},
     "output_type": "execute_result"
    }
   ],
   "source": [
    "datamuseumsnap[datamuseumsnap['name'].str.contains(\"Napoléon\")]"
   ]
  },
  {
   "cell_type": "markdown",
   "id": "09d02cb7",
   "metadata": {},
   "source": [
    "#### ...Je n'y arrive pas 🤷‍♀️"
   ]
  },
  {
   "cell_type": "markdown",
   "id": "a6d4933b",
   "metadata": {},
   "source": [
    "# Proposition de deux axes d'analyse supplémentaires"
   ]
  },
  {
   "cell_type": "markdown",
   "id": "eff72c3d",
   "metadata": {},
   "source": [
    "## Référencement des musées participants à la nuit européenne des musées en mai 2022"
   ]
  },
  {
   "cell_type": "markdown",
   "id": "790b8351",
   "metadata": {},
   "source": [
    "tableau de données = https://data.culture.gouv.fr/explore/dataset/nuit-des-musees-2022/table/?disjunctive.location_region&disjunctive.accessibility_label_fr&location=5,46.81407,1.65072&dataChart=eyJxdWVyaWVzIjpbeyJjaGFydHMiOlt7InR5cGUiOiJjb2x1bW4iLCJmdW5jIjoiQ09VTlQiLCJ5QXhpcyI6ImFnZV9taW4iLCJzY2llbnRpZmljRGlzcGxheSI6dHJ1ZSwiY29sb3IiOiIjYzQzYTJmIn1dLCJ4QXhpcyI6ImxvY2F0aW9uX3JlZ2lvbiIsIm1heHBvaW50cyI6IiIsInRpbWVzY2FsZSI6IiIsInNvcnQiOiIiLCJjb25maWciOnsiZGF0YXNldCI6Im51aXQtZGVzLW11c2Vlcy0yMDIyIiwib3B0aW9ucyI6eyJkaXNqdW5jdGl2ZS5sb2NhdGlvbl9yZWdpb24iOnRydWUsImRpc2p1bmN0aXZlLmFjY2Vzc2liaWxpdHlfbGFiZWxfZnIiOnRydWV9fX1dLCJkaXNwbGF5TGVnZW5kIjp0cnVlLCJhbGlnbk1vbnRoIjp0cnVlLCJ0aW1lc2NhbGUiOiIifQ%3D%3D\n",
    "\n",
    "La 18e Nuit européenne des musées se tient cette année, le samedi 14 mai 2022 dans toute l'Europe."
   ]
  },
  {
   "cell_type": "markdown",
   "id": "6312468a",
   "metadata": {},
   "source": [
    "#### Intérêt pour une analyse : Quel % des musées en France participent à la nuit européenne des musées en mai 2022 ? Quel % des activités liées à la nuit européenne des musées sont référencées comme étant accessibles  pour les personnes à mobilité réduite ?"
   ]
  },
  {
   "cell_type": "markdown",
   "id": "e47ade76",
   "metadata": {},
   "source": [
    "## Référencement des musées avec des expositions ayant reçu le label « Exposition d’Intérêt National »"
   ]
  },
  {
   "cell_type": "markdown",
   "id": "cc4e383b",
   "metadata": {},
   "source": [
    "tableau de données = https://data.culture.gouv.fr/explore/dataset/liste-des-expositions-ayant-recu-le-label-exposition-dinteret-national/table/\n",
    "\n",
    "« Le label « Exposition d’intérêt national » a été créé par le ministère de la Culture en 1999 pour mettre en valeur et soutenir des expositions remarquables organisées par les musées de France dans les régions. Elles mettent en lumière des thématiques qui reflètent la richesse et la diversité des collections des musées de France."
   ]
  },
  {
   "cell_type": "markdown",
   "id": "4567d227",
   "metadata": {},
   "source": [
    "#### Intérêt pour une analyse : le label « Exposition d’Intérêt National » est-il présent dans au moins un musée par département en France ? La fréquentation de ce type d'exposition est-elle plus importante que dans les autres musées (ce qui serait synonyme d'une réussite de la valorisation de ces expositions à travers ce label) ? "
   ]
  },
  {
   "cell_type": "markdown",
   "id": "ad503bf5",
   "metadata": {},
   "source": [
    "### Proposition d'un troisième axe "
   ]
  },
  {
   "cell_type": "markdown",
   "id": "e7c8140d",
   "metadata": {},
   "source": [
    "Fréquentation des musées en France : https://data.culture.gouv.fr/explore/dataset/frequentation-des-musees-de-france/table/\n",
    "\n",
    "Quels sont les musées les plus/moins fréquentés en France ? La distinction payant/gratuit peut être également intéressante à analyser."
   ]
  }
 ],
 "metadata": {
  "kernelspec": {
   "display_name": "Python 3 (ipykernel)",
   "language": "python",
   "name": "python3"
  },
  "language_info": {
   "codemirror_mode": {
    "name": "ipython",
    "version": 3
   },
   "file_extension": ".py",
   "mimetype": "text/x-python",
   "name": "python",
   "nbconvert_exporter": "python",
   "pygments_lexer": "ipython3",
   "version": "3.9.7"
  }
 },
 "nbformat": 4,
 "nbformat_minor": 5
}
